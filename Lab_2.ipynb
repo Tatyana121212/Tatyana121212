{
 "cells": [
  {
   "cell_type": "code",
   "execution_count": 3,
   "id": "29b02a21-5b72-4dac-be83-b69a4f8ca7c1",
   "metadata": {},
   "outputs": [],
   "source": [
    "# Import other modules not related to PySpark\n",
    "import os\n",
    "import sys\n",
    "import pandas as pd\n",
    "from pandas import DataFrame\n",
    "import numpy as np\n",
    "import matplotlib.pyplot as plt\n",
    "import matplotlib.ticker as mtick\n",
    "import matplotlib\n",
    "from mpl_toolkits.mplot3d import Axes3D\n",
    "import math\n",
    "from IPython.core.interactiveshell import InteractiveShell\n",
    "from datetime import *\n",
    "import statistics as stats\n",
    "# This helps auto print out the items without explixitly using 'print'\n",
    "InteractiveShell.ast_node_interactivity = \"all\" \n",
    "%matplotlib inline\n"
   ]
  },
  {
   "cell_type": "code",
   "execution_count": 11,
   "id": "a7665e93-7bf6-4249-b405-79cec41c19fc",
   "metadata": {},
   "outputs": [],
   "source": [
    "# Import PySpark related modules\n",
    "import pyspark\n",
    "from pyspark.rdd import RDD\n",
    "from pyspark.sql import Row\n",
    "from pyspark.sql import DataFrame\n",
    "from pyspark.sql import SparkSession\n",
    "from pyspark.sql import SQLContext\n",
    "from pyspark.sql import functions\n",
    "from pyspark.sql.functions import lit, desc, col, size, array_contains, udf\\\n",
    ", isnan, udf, hour, array_min, array_max, countDistinct\n",
    "from pyspark.sql.types import *\n",
    "\n",
    "MAX_MEMORY = '15G'\n",
    "# Initialize a spark session.\n",
    "conf = pyspark.SparkConf().setMaster(\"local[*]\") \\\n",
    "        .set('spark.executor.heartbeatInterval', 10000) \\\n",
    "        .set('spark.network.timeout', 10000) \\\n",
    "        .set(\"spark.core.connection.ack.wait.timeout\", \"3600\") \\\n",
    "        .set(\"spark.executor.memory\", MAX_MEMORY) \\\n",
    "        .set(\"spark.driver.memory\", MAX_MEMORY)\n",
    "def init_spark():\n",
    "    spark = SparkSession \\\n",
    "        .builder \\\n",
    "        .appName(\"Pyspark guide\") \\\n",
    "        .config(conf=conf) \\\n",
    "        .getOrCreate()\n",
    "    return spark\n",
    "\n",
    "spark = init_spark()\n",
    "filename_data = 'take_500K.csv'\n",
    "# Load the main data set into pyspark data frame \n",
    "df = spark.read.options(delimiter=\",\", header=True).csv(filename_data)\n",
    "# df = spark.read.csv(filename_data)\n",
    "# df = pd.read_csv(filename_data)\n",
    "# print(df)\n",
    "# df.drop(col('permalink'))\n",
    "\n"
   ]
  },
  {
   "cell_type": "code",
   "execution_count": 12,
   "id": "c3412da5-9852-423c-b62f-3c377bd68efd",
   "metadata": {},
   "outputs": [
    {
     "name": "stdout",
     "output_type": "stream",
     "text": [
      "+--------------------+-----------+--------------------+---------+-----+\n",
      "|             subName|created_utc|                body|sentiment|score|\n",
      "+--------------------+-----------+--------------------+---------+-----+\n",
      "|                nova| 2021-10-25|When you schedule...|      0.0|    2|\n",
      "|           vancouver| 2021-10-25|Didn't stop price...|   0.1946|   11|\n",
      "|            pregnant| 2021-10-25|I’m just waiting ...|   0.1946|   11|\n",
      "|            startrek| 2021-10-25|*The first duty o...|   0.1946|   11|\n",
      "|       entertainment| 2021-10-25|\"\"\"Sheeran didn't...|   0.1946|   11|\n",
      "|          conspiracy| 2021-10-25|I see a lot of po...|   0.1946|   11|\n",
      "|                nova| 2021-10-25|Unfortunately the...|   0.1946|   11|\n",
      "|      torontoraptors| 2021-10-25|Idk if they have ...|  -0.0516|    3|\n",
      "|               rvvtf| 2021-10-25|In terms of enrol...|   0.1946|   11|\n",
      "|         redscarepod| 2021-10-25|Lol it’s kinda fu...|   0.4417|    6|\n",
      "|          ukpolitics| 2021-10-25|It's the deadlies...|   0.1946|   11|\n",
      "|            antiwork| 2021-10-25|At one role I had...|   0.1946|   11|\n",
      "|          conspiracy| 2021-10-25|Much thanks for t...|   0.1946|   11|\n",
      "|         bakersfield| 2021-10-25|Are they in denia...|      0.0|    1|\n",
      "|     hermancainaward| 2021-10-25|\"\"\"This is how th...|   0.1946|   11|\n",
      "|           australia| 2021-10-25|Germany was the f...|   0.1946|   11|\n",
      "|watercoolerwednesday| 2021-10-25|Covid got nagy, t...|   0.1946|   11|\n",
      "|           madisonwi| 2021-10-25|\"\"\"You should con...|   0.1946|   11|\n",
      "|           nasikatok| 2021-10-25|# Commemorative s...|   0.1946|   11|\n",
      "|               delta| 2021-10-25|This happened to ...|  -0.1779|    2|\n",
      "+--------------------+-----------+--------------------+---------+-----+\n",
      "only showing top 20 rows\n",
      "\n"
     ]
    }
   ],
   "source": [
    "df = df.drop('_c0')\n",
    "df = df.withColumn('sentiment', df['sentiment'].cast('float'))\n",
    "df = df.withColumn('score', df['score'].cast('int'))\n",
    "df = df.na.drop()\n",
    "\n",
    "df.show()"
   ]
  },
  {
   "cell_type": "code",
   "execution_count": 13,
   "id": "971a1fc4-8ad4-4fba-be92-d64f0fc43377",
   "metadata": {},
   "outputs": [],
   "source": [
    "from pyspark.ml.feature import VectorAssembler\n",
    "\n",
    "# Создание вектора признаков\n",
    "feature_assembler  = VectorAssembler(inputCols=['sentiment', 'score'], outputCol='features')\n",
    "X = feature_assembler.transform(df)\n",
    "y = X.select(\"score\")"
   ]
  },
  {
   "cell_type": "code",
   "execution_count": 14,
   "id": "8c0712c5-2181-4b51-8c3a-7a69323d2ca9",
   "metadata": {},
   "outputs": [],
   "source": [
    "# Разделение данных на тренировочный и тестовый наборы\n",
    "train_data, test_data = X.randomSplit([0.7, 0.3], seed=42)\n",
    "train_y, test_y = y.randomSplit([0.7, 0.3], seed=42)"
   ]
  },
  {
   "cell_type": "code",
   "execution_count": 15,
   "id": "2745e292-8dc4-4f7c-898c-b9beaa07883a",
   "metadata": {},
   "outputs": [
    {
     "data": {
      "text/plain": [
       "341932"
      ]
     },
     "execution_count": 15,
     "metadata": {},
     "output_type": "execute_result"
    }
   ],
   "source": [
    "train_data.count()"
   ]
  },
  {
   "cell_type": "code",
   "execution_count": 16,
   "id": "9d328d13-137f-488e-81a7-d836da7db99b",
   "metadata": {},
   "outputs": [
    {
     "name": "stdout",
     "output_type": "stream",
     "text": [
      "Coefficients: [0.0,0.9204109254423848]\n",
      "Intercept: 0.7259820461275553\n"
     ]
    }
   ],
   "source": [
    "from pyspark.ml.regression import LinearRegression\n",
    "from pyspark.ml import Pipeline\n",
    "\n",
    "# Создание и обучение модели линейной регрессии\n",
    "lr = LinearRegression(featuresCol=\"features\", labelCol=\"score\", maxIter=10, regParam=0.3, elasticNetParam=0.8)\n",
    "pipeline = Pipeline(stages=[feature_assembler, lr])\n",
    "model = lr.fit(train_data)\n",
    "\n",
    "print(\"Coefficients: %s\" % model.coefficients)\n",
    "print(\"Intercept: %s\" % model.intercept)"
   ]
  },
  {
   "cell_type": "code",
   "execution_count": 17,
   "id": "b0d98aba-0e49-42f6-a00f-3d689e4ae2a8",
   "metadata": {},
   "outputs": [
    {
     "name": "stdout",
     "output_type": "stream",
     "text": [
      "+-----------------+-----------+--------------------+---------+-----+--------------------+------------------+\n",
      "|          subName|created_utc|                body|sentiment|score|            features|        prediction|\n",
      "+-----------------+-----------+--------------------+---------+-----+--------------------+------------------+\n",
      "|              196| 2021-10-24|In China if you h...|   0.1946|   11|[0.19460000097751...|10.850502225993788|\n",
      "|              196| 2021-10-25|White’s b1 knight...|   0.1946|   11|[0.19460000097751...|10.850502225993788|\n",
      "|        2007scape| 2021-10-24|Why March 2021? O...|      0.0|    2|           [0.0,2.0]| 2.566803897012325|\n",
      "|        2007scape| 2021-10-25|I got my first 99...|      0.0|    2|           [0.0,2.0]| 2.566803897012325|\n",
      "|        2007scape| 2021-10-25|he prob started p...|   0.2023|    5|[0.20229999721050...| 5.328036673339479|\n",
      "|    2american4you| 2021-10-25|&gt;Obviously I h...|   0.1946|   11|[0.19460000097751...|10.850502225993788|\n",
      "|      2balkan4you| 2021-10-25|wait, hmm... i go...|   0.1946|   11|[0.19460000097751...|10.850502225993788|\n",
      "|     2meirl4meirl| 2021-10-25|Yep. My last apar...|   0.1946|   11|[0.19460000097751...|10.850502225993788|\n",
      "|   30plusskincare| 2021-10-24|You might want to...|   0.1946|   11|[0.19460000097751...|10.850502225993788|\n",
      "|3dprintedtabletop| 2021-10-24|I just got an ord...|   0.1946|   11|[0.19460000097751...|10.850502225993788|\n",
      "|       3dprinting| 2021-10-25|Actually if you c...|   0.1946|   11|[0.19460000097751...|10.850502225993788|\n",
      "|            49ers| 2021-10-25|COVID drops back ...|      0.0|    8|           [0.0,8.0]| 8.089269449666634|\n",
      "|            49ers| 2021-10-25|Injuries are the ...|  -0.2083|    2|[-0.2082999944686...| 2.566803897012325|\n",
      "|            49ers| 2021-10-25|Maybe Kyle can go...|      0.0|    1|           [0.0,1.0]|1.6463929715699401|\n",
      "|            4chan| 2021-10-24|\"\"\"It works like ...|   0.1946|   11|[0.19460000097751...|10.850502225993788|\n",
      "|            4chan| 2021-10-24|\"\"\"Tfw you have n...|  -0.1531|    1|[-0.1530999988317...|1.6463929715699401|\n",
      "|            4chan| 2021-10-24|&gt; that covid w...|   0.1946|   11|[0.19460000097751...|10.850502225993788|\n",
      "|            4chan| 2021-10-24|Fauci originally ...|   0.1946|   11|[0.19460000097751...|10.850502225993788|\n",
      "|            4chan| 2021-10-24|Idk man, I am kin...|   0.1946|   11|[0.19460000097751...|10.850502225993788|\n",
      "|            4chan| 2021-10-24|If you're a fat f...|  -0.1531|    1|[-0.1530999988317...|1.6463929715699401|\n",
      "+-----------------+-----------+--------------------+---------+-----+--------------------+------------------+\n",
      "only showing top 20 rows\n",
      "\n"
     ]
    }
   ],
   "source": [
    "predictions = model.transform(test_data)\n",
    "predictions.show()"
   ]
  },
  {
   "cell_type": "code",
   "execution_count": 18,
   "id": "3fde03c1-3de1-47a2-9575-0a76bb6c423a",
   "metadata": {},
   "outputs": [
    {
     "name": "stdout",
     "output_type": "stream",
     "text": [
      "mse: 0.0871770930524805\n",
      "rmse: 0.2952576723007897\n",
      "mae: 0.23694068094600254\n",
      "var: 11.658915784868238\n",
      "r2: 0.9936655668878099\n"
     ]
    }
   ],
   "source": [
    "from pyspark.ml.evaluation import RegressionEvaluator\n",
    "for metric in [\"mse\", \"rmse\", \"mae\", \"var\", \"r2\"]:\n",
    "    regression_evaluator = RegressionEvaluator(predictionCol=\"prediction\", labelCol=\"score\", metricName=metric)\n",
    "    calculated_metric = regression_evaluator.evaluate(predictions)\n",
    "    print(f\"{metric}: {calculated_metric}\") # метрики"
   ]
  },
  {
   "cell_type": "markdown",
   "id": "13163f96-9097-44af-a35b-72a1454bbd5f",
   "metadata": {},
   "source": [
    "Random Forest"
   ]
  },
  {
   "cell_type": "code",
   "execution_count": 19,
   "id": "023e50da-f69c-4e6a-b170-7bfbd9b36561",
   "metadata": {},
   "outputs": [
    {
     "name": "stdout",
     "output_type": "stream",
     "text": [
      "+--------------------+-----------+--------------------+---------+-----+\n",
      "|             subName|created_utc|                body|sentiment|score|\n",
      "+--------------------+-----------+--------------------+---------+-----+\n",
      "|                nova| 2021-10-25|When you schedule...|      0.0|    2|\n",
      "|           vancouver| 2021-10-25|Didn't stop price...|   0.1946|   11|\n",
      "|            pregnant| 2021-10-25|I’m just waiting ...|   0.1946|   11|\n",
      "|            startrek| 2021-10-25|*The first duty o...|   0.1946|   11|\n",
      "|       entertainment| 2021-10-25|\"\"\"Sheeran didn't...|   0.1946|   11|\n",
      "|          conspiracy| 2021-10-25|I see a lot of po...|   0.1946|   11|\n",
      "|                nova| 2021-10-25|Unfortunately the...|   0.1946|   11|\n",
      "|      torontoraptors| 2021-10-25|Idk if they have ...|  -0.0516|    3|\n",
      "|               rvvtf| 2021-10-25|In terms of enrol...|   0.1946|   11|\n",
      "|         redscarepod| 2021-10-25|Lol it’s kinda fu...|   0.4417|    6|\n",
      "|          ukpolitics| 2021-10-25|It's the deadlies...|   0.1946|   11|\n",
      "|            antiwork| 2021-10-25|At one role I had...|   0.1946|   11|\n",
      "|          conspiracy| 2021-10-25|Much thanks for t...|   0.1946|   11|\n",
      "|         bakersfield| 2021-10-25|Are they in denia...|      0.0|    1|\n",
      "|     hermancainaward| 2021-10-25|\"\"\"This is how th...|   0.1946|   11|\n",
      "|           australia| 2021-10-25|Germany was the f...|   0.1946|   11|\n",
      "|watercoolerwednesday| 2021-10-25|Covid got nagy, t...|   0.1946|   11|\n",
      "|           madisonwi| 2021-10-25|\"\"\"You should con...|   0.1946|   11|\n",
      "|           nasikatok| 2021-10-25|# Commemorative s...|   0.1946|   11|\n",
      "|               delta| 2021-10-25|This happened to ...|  -0.1779|    2|\n",
      "+--------------------+-----------+--------------------+---------+-----+\n",
      "only showing top 20 rows\n",
      "\n"
     ]
    }
   ],
   "source": [
    "df = spark.read.options(delimiter=\",\", header=True).csv(filename_data)\n",
    "df = df.drop('_c0')\n",
    "df = df.withColumn('sentiment', df['sentiment'].cast('float'))\n",
    "df = df.withColumn('score', df['score'].cast('int'))\n",
    "df = df.na.drop()\n",
    "\n",
    "df.show()"
   ]
  },
  {
   "cell_type": "code",
   "execution_count": 20,
   "id": "b2efff6e-30a7-420a-8d76-ddae8d38c357",
   "metadata": {},
   "outputs": [],
   "source": [
    "# Define the categorical feature (hashtags)\n",
    "categoricalCols = [\"sentiment\"]\n",
    "\n",
    "# Define the numerical features\n",
    "numericalCols = [\"score\"]"
   ]
  },
  {
   "cell_type": "code",
   "execution_count": 35,
   "id": "bc4e4322-549a-455c-8800-90c19487a081",
   "metadata": {},
   "outputs": [
    {
     "name": "stdout",
     "output_type": "stream",
     "text": [
      "+--------------------+-----------+--------------------+---------+-----+\n",
      "|             subName|created_utc|                body|sentiment|score|\n",
      "+--------------------+-----------+--------------------+---------+-----+\n",
      "|                nova| 2021-10-25|When you schedule...|        0|    2|\n",
      "|           vancouver| 2021-10-25|Didn't stop price...|        0|   11|\n",
      "|            pregnant| 2021-10-25|I’m just waiting ...|        0|   11|\n",
      "|            startrek| 2021-10-25|*The first duty o...|        0|   11|\n",
      "|       entertainment| 2021-10-25|\"\"\"Sheeran didn't...|        0|   11|\n",
      "|          conspiracy| 2021-10-25|I see a lot of po...|        0|   11|\n",
      "|                nova| 2021-10-25|Unfortunately the...|        0|   11|\n",
      "|      torontoraptors| 2021-10-25|Idk if they have ...|        0|    3|\n",
      "|               rvvtf| 2021-10-25|In terms of enrol...|        0|   11|\n",
      "|         redscarepod| 2021-10-25|Lol it’s kinda fu...|        0|    6|\n",
      "|          ukpolitics| 2021-10-25|It's the deadlies...|        0|   11|\n",
      "|            antiwork| 2021-10-25|At one role I had...|        0|   11|\n",
      "|          conspiracy| 2021-10-25|Much thanks for t...|        0|   11|\n",
      "|         bakersfield| 2021-10-25|Are they in denia...|        0|    1|\n",
      "|     hermancainaward| 2021-10-25|\"\"\"This is how th...|        0|   11|\n",
      "|           australia| 2021-10-25|Germany was the f...|        0|   11|\n",
      "|watercoolerwednesday| 2021-10-25|Covid got nagy, t...|        0|   11|\n",
      "|           madisonwi| 2021-10-25|\"\"\"You should con...|        0|   11|\n",
      "|           nasikatok| 2021-10-25|# Commemorative s...|        0|   11|\n",
      "|               delta| 2021-10-25|This happened to ...|        0|    2|\n",
      "+--------------------+-----------+--------------------+---------+-----+\n",
      "only showing top 20 rows\n",
      "\n"
     ]
    }
   ],
   "source": [
    "from pyspark.sql.functions import when\n",
    "df = df.withColumn('sentiment', when(df['sentiment'] > 0.1, lit(1)).otherwise(lit(0)))\n",
    "df.show()"
   ]
  },
  {
   "cell_type": "code",
   "execution_count": 36,
   "id": "0d545fdb-cd42-4e9b-b870-5c1500f5cd54",
   "metadata": {},
   "outputs": [],
   "source": [
    "from pyspark.ml.feature import StringIndexer\n",
    "\n",
    "# Convert the categorical feature into a numerical feature using string indexing\n",
    "indexer = StringIndexer(inputCols=categoricalCols, outputCols=[c + \"Index\" for c in categoricalCols])\n",
    "indexed = indexer.fit(df).transform(df)"
   ]
  },
  {
   "cell_type": "code",
   "execution_count": 37,
   "id": "5ae0ee36-ff8f-4f45-9942-d70bd40aa996",
   "metadata": {},
   "outputs": [],
   "source": [
    "# Combine the numerical and numerical features into a single vector column\n",
    "assembler = VectorAssembler(inputCols=numericalCols, outputCol=\"features\")\n",
    "output = assembler.transform(indexed)"
   ]
  },
  {
   "cell_type": "code",
   "execution_count": 38,
   "id": "4f12a027-97d5-4255-9b03-6658b613d1dc",
   "metadata": {},
   "outputs": [],
   "source": [
    "# Split the data into training and test sets (70%/30%)\n",
    "train, test = output.randomSplit([0.7, 0.3])"
   ]
  },
  {
   "cell_type": "code",
   "execution_count": 39,
   "id": "0df0b193-7394-474d-b594-f132115ff759",
   "metadata": {},
   "outputs": [
    {
     "name": "stdout",
     "output_type": "stream",
     "text": [
      "ratio: 341421\n"
     ]
    }
   ],
   "source": [
    "major_df = train.filter(col(\"sentiment\") == 0)\n",
    "minor_df = train.filter(col(\"sentiment\") == 1)\n",
    "ratio = int(major_df.count()/minor_df.count())\n",
    "print(\"ratio: {}\".format(ratio))"
   ]
  },
  {
   "cell_type": "code",
   "execution_count": 40,
   "id": "c4385300-d6a8-43b5-94ed-caa60dd5d00f",
   "metadata": {},
   "outputs": [
    {
     "name": "stdout",
     "output_type": "stream",
     "text": [
      "+-----------------+-----------+--------------------+---------+-----+--------------+--------+\n",
      "|          subName|created_utc|                body|sentiment|score|sentimentIndex|features|\n",
      "+-----------------+-----------+--------------------+---------+-----+--------------+--------+\n",
      "|     1200isplenty| 2021-10-25|I never thought I...|        0|   11|           0.0|  [11.0]|\n",
      "|            14ers| 2021-10-25|Good to see your ...|        0|   11|           0.0|  [11.0]|\n",
      "|              196| 2021-10-25|B I G S C R E E N...|        0|   11|           0.0|  [11.0]|\n",
      "|              196| 2021-10-25|True but I'd rath...|        0|    9|           0.0|   [9.0]|\n",
      "|              196| 2021-10-25|Why won't you deb...|        0|   11|           0.0|  [11.0]|\n",
      "|        2007scape| 2021-10-25|I’m not sad [depr...|        0|   11|           0.0|  [11.0]|\n",
      "|        2007scape| 2021-10-25|No, it was made p...|        0|   16|           0.0|  [16.0]|\n",
      "|        2007scape| 2021-10-25|What caused the c...|        0|   11|           0.0|  [11.0]|\n",
      "|    2american4you| 2021-10-25|&gt;Obviously I h...|        0|   11|           0.0|  [11.0]|\n",
      "|      2balkan4you| 2021-10-25|wait, hmm... i go...|        0|   11|           0.0|  [11.0]|\n",
      "|     2meirl4meirl| 2021-10-24|Im not saying som...|        0|   11|           0.0|  [11.0]|\n",
      "|     2meirl4meirl| 2021-10-25|Masks have been a...|        0|   11|           0.0|  [11.0]|\n",
      "|     2meirl4meirl| 2021-10-25|Yep. My last apar...|        0|   11|           0.0|  [11.0]|\n",
      "|   30plusskincare| 2021-10-24|You might want to...|        0|   11|           0.0|  [11.0]|\n",
      "|              3d6| 2021-10-25|\"\"\"\"\"\"\"The earth ...|        0|   11|           0.0|  [11.0]|\n",
      "|3dprintedtabletop| 2021-10-24|I just got an ord...|        0|   11|           0.0|  [11.0]|\n",
      "|       3dprinting| 2021-10-25|Actually if you c...|        0|   11|           0.0|  [11.0]|\n",
      "|       3dprinting| 2021-10-25|I just got an Any...|        0|   11|           0.0|  [11.0]|\n",
      "|       3dprinting| 2021-10-25|Lucky for me I di...|        0|   11|           0.0|  [11.0]|\n",
      "|       3dprinting| 2021-10-25|Yeah I would gues...|        0|   11|           0.0|  [11.0]|\n",
      "+-----------------+-----------+--------------------+---------+-----+--------------+--------+\n",
      "only showing top 20 rows\n",
      "\n"
     ]
    }
   ],
   "source": [
    "from pyspark.sql.functions import explode\n",
    "from pyspark.sql.functions import array\n",
    "\n",
    "sampled_majority_df = major_df.sample(False, 1/ratio)\n",
    "train = sampled_majority_df.unionAll(minor_df)\n",
    "\n",
    "a = range(ratio)\n",
    "\n",
    "oversampled_df = minor_df.withColumn(\"dummy\", explode(array([lit(x) for x in a]))).drop('dummy')# combine both oversampled minority rows and previous majority rows \n",
    "train = major_df.unionAll(oversampled_df)\n",
    "train.show()"
   ]
  },
  {
   "cell_type": "code",
   "execution_count": 41,
   "id": "7627fdab-2bfe-4edb-94fb-232a55f710c7",
   "metadata": {},
   "outputs": [],
   "source": [
    "from pyspark.ml.classification import RandomForestClassifier\n",
    "\n",
    "rf = RandomForestClassifier(labelCol=\"sentiment\", featuresCol=\"features\", numTrees=100)"
   ]
  },
  {
   "cell_type": "code",
   "execution_count": 42,
   "id": "238c4d79-5a9a-4934-a9e4-e62fc6f0479d",
   "metadata": {},
   "outputs": [],
   "source": [
    "# Train the model on the training data\n",
    "model = rf.fit(train)"
   ]
  },
  {
   "cell_type": "code",
   "execution_count": 43,
   "id": "a4b01855-87cf-4c45-a1c6-9165e97d7697",
   "metadata": {},
   "outputs": [],
   "source": [
    "# Make predictions on the test data\n",
    "predictions = model.transform(test) \n"
   ]
  },
  {
   "cell_type": "code",
   "execution_count": 45,
   "id": "324d5a7e-c228-47a6-abfb-e08938f16f8d",
   "metadata": {},
   "outputs": [
    {
     "name": "stdout",
     "output_type": "stream",
     "text": [
      "Area Under ROC (test) = 0.0\n",
      "Area under ROC (train):  1.0\n"
     ]
    }
   ],
   "source": [
    "from pyspark.ml.evaluation import BinaryClassificationEvaluator\n",
    "\n",
    "# Evaluate the model using binary classification metrics\n",
    "evaluator = BinaryClassificationEvaluator(rawPredictionCol=\"prediction\", labelCol=\"sentiment\")\n",
    "auc = evaluator.evaluate(predictions)\n",
    "evaluator = BinaryClassificationEvaluator(rawPredictionCol=\"prediction\", labelCol=\"sentiment\", metricName=\"areaUnderPR\")\n",
    "apr = evaluator.evaluate(predictions)\n",
    "print(\"Area Under ROC (test) =\", auc)\n",
    "\n",
    "rfSummary = model.summary\n",
    "print(\"Area under ROC (train): \", rfSummary.areaUnderROC)"
   ]
  },
  {
   "cell_type": "code",
   "execution_count": null,
   "id": "058dd301-4140-4267-acf9-77dc3a6c2e99",
   "metadata": {},
   "outputs": [],
   "source": []
  }
 ],
 "metadata": {
  "kernelspec": {
   "display_name": "Python 3 (ipykernel)",
   "language": "python",
   "name": "python3"
  },
  "language_info": {
   "codemirror_mode": {
    "name": "ipython",
    "version": 3
   },
   "file_extension": ".py",
   "mimetype": "text/x-python",
   "name": "python",
   "nbconvert_exporter": "python",
   "pygments_lexer": "ipython3",
   "version": "3.11.6"
  }
 },
 "nbformat": 4,
 "nbformat_minor": 5
}
